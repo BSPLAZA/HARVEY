{
 "cells": [
  {
   "cell_type": "markdown",
   "metadata": {},
   "source": [
    "Loading the saved model weights into the model architecture:"
   ]
  },
  {
   "cell_type": "code",
   "execution_count": null,
   "metadata": {},
   "outputs": [],
   "source": [
    "import torch\n",
    "import sys\n",
    "sys.path.append(\"../src/models/\")\n",
    "\n",
    "from load_model import load_resnet50_model\n",
    "\n",
    "\n",
    "# Load the architecture\n",
    "# assuming the model structure is defined in this function\n",
    "model = load_resnet50_model()\n",
    "\n",
    "# Load the saved weights\n",
    "model_path = \"../models/ResNet50-Plant-model-Final.pth\"\n",
    "model = torch.load(model_path, map_location=torch.device('cpu'))"
   ]
  },
  {
   "cell_type": "markdown",
   "metadata": {},
   "source": [
    "Evaluate Model Performance:\n",
    "\n",
    "1. Iterate over the validation dataset and record the model's performance."
   ]
  },
  {
   "cell_type": "code",
   "execution_count": null,
   "metadata": {},
   "outputs": [],
   "source": [
    "import torchvision.transforms as transforms\n",
    "from torch.utils.data import DataLoader\n",
    "from torchvision.datasets import ImageFolder\n",
    "\n",
    "VALID_DATA_PATH = '../.kaggle/valid'  \n",
    "\n",
    "valid_transform = transforms.Compose([\n",
    "    transforms.Resize((224, 224)),\n",
    "    transforms.ToTensor(),\n",
    "])\n",
    "\n",
    "valid_data = ImageFolder(root=VALID_DATA_PATH, transform=valid_transform)\n",
    "valid_loader = DataLoader(valid_data, batch_size=32,\n",
    "                          shuffle=False, num_workers=4, prefetch_factor=2, pin_memory=True)\n"
   ]
  },
  {
   "cell_type": "markdown",
   "metadata": {},
   "source": [
    "Estimating Time to process Validation Dataset (Optional)"
   ]
  },
  {
   "cell_type": "code",
   "execution_count": null,
   "metadata": {},
   "outputs": [],
   "source": [
    "'''\n",
    "import time\n",
    "\n",
    "start_time = time.time()\n",
    "\n",
    "num_batches_to_profile = 10\n",
    "with torch.no_grad():\n",
    "    for i, (images, labels) in enumerate(valid_loader):\n",
    "        if i >= num_batches_to_profile:\n",
    "            break\n",
    "        outputs = model(images)\n",
    "\n",
    "end_time = time.time()\n",
    "avg_time_per_batch = (end_time - start_time) / num_batches_to_profile\n",
    "total_batches = len(valid_loader)\n",
    "estimated_total_time = avg_time_per_batch * total_batches\n",
    "print(estimated_total_time)\n",
    "'''"
   ]
  },
  {
   "cell_type": "code",
   "execution_count": null,
   "metadata": {},
   "outputs": [],
   "source": [
    "correct = 0\n",
    "total = 0\n",
    "\n",
    "with torch.no_grad():  # No need to calculate gradients for evaluation\n",
    "    for images, labels in valid_loader:\n",
    "        outputs = model(images)\n",
    "        _, predicted = torch.max(outputs.data, 1)  # Returns max value, indices; only indices used\n",
    "        total += labels.size(0)\n",
    "        correct += (predicted == labels).sum().item()\n",
    "\n",
    "accuracy = 100 * correct / total\n",
    "print(f\"Accuracy on the validation dataset: {accuracy:.2f}%\")"
   ]
  }
 ],
 "metadata": {
  "kernelspec": {
   "display_name": "HarveyVenv",
   "language": "python",
   "name": "python3"
  },
  "language_info": {
   "codemirror_mode": {
    "name": "ipython",
    "version": 3
   },
   "file_extension": ".py",
   "mimetype": "text/x-python",
   "name": "python",
   "nbconvert_exporter": "python",
   "pygments_lexer": "ipython3",
   "version": "3.11.5"
  }
 },
 "nbformat": 4,
 "nbformat_minor": 2
}
